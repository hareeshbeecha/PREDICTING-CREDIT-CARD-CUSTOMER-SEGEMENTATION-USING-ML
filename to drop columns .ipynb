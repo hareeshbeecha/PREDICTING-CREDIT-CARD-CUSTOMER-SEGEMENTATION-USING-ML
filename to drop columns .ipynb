{
 "cells": [
  {
   "cell_type": "code",
   "execution_count": null,
   "id": "6facbc62",
   "metadata": {},
   "outputs": [],
   "source": [
    "\n",
    "# Specify the columns to be removed\n",
    "columns_to_remove = ['Naive_Bayes_Classifier_Attrition_Flag_Card_Category_Contacts_Count_12_mon_Dependent_count_Education_Level_Months_Inactive_12_mon_1', 'Naive_Bayes_Classifier_Attrition_Flag_Card_Category_Contacts_Count_12_mon_Dependent_count_Education_Level_Months_Inactive_12_mon_2']\n",
    "\n",
    "# Remove the specified columns\n",
    "df = df.drop(columns=columns_to_remove)\n",
    "\n",
    "# Save the modified DataFrame back to a CSV file\n",
    "output_file_path = 'modified_BankChurners.csv'\n",
    "df.to_csv(output_file_path, index=False)\n",
    "\n",
    "\n"
   ]
  }
 ],
 "metadata": {
  "kernelspec": {
   "display_name": "Python 3 (ipykernel)",
   "language": "python",
   "name": "python3"
  },
  "language_info": {
   "codemirror_mode": {
    "name": "ipython",
    "version": 3
   },
   "file_extension": ".py",
   "mimetype": "text/x-python",
   "name": "python",
   "nbconvert_exporter": "python",
   "pygments_lexer": "ipython3",
   "version": "3.9.12"
  }
 },
 "nbformat": 4,
 "nbformat_minor": 5
}
